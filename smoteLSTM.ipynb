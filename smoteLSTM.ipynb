{
 "cells": [
  {
   "cell_type": "markdown",
   "id": "e854d204",
   "metadata": {},
   "source": [
    "# Importing the Libraries"
   ]
  },
  {
   "cell_type": "code",
   "execution_count": 1,
   "id": "cfc5bdd4",
   "metadata": {},
   "outputs": [],
   "source": [
    "from imblearn.over_sampling import SMOTE\n",
    "import numpy as np\n",
    "import pandas as pd\n",
    "from collections import Counter\n",
    "from skmultilearn.model_selection.measures import get_combination_wise_output_matrix \n",
    "from tensorflow.keras import callbacks\n",
    "# Importing the Keras libraries and packages\n",
    "from tensorflow.keras.models import Sequential\n",
    "from tensorflow.keras.layers import Dense\n",
    "from tensorflow.keras.layers import LSTM\n",
    "from tensorflow.keras.layers import Dropout\n",
    "from tensorflow.keras.layers import Activation\n",
    "from tensorflow.keras.optimizers import Adam"
   ]
  },
  {
   "cell_type": "markdown",
   "id": "dca38b37",
   "metadata": {},
   "source": [
    "# Loading the dataset"
   ]
  },
  {
   "cell_type": "code",
   "execution_count": 2,
   "id": "ad1108c0",
   "metadata": {},
   "outputs": [],
   "source": [
    "def load_dataset():\n",
    "    X_train_load = np.loadtxt('D:\\Dataset\\Combined Datasets\\X_train_reshaped_multi.csv', delimiter=',')\n",
    "    X_train_scaled = np.reshape(X_train_load, (X_train_load.shape[0], X_train_load.shape[1], 1))   \n",
    "    X_test_load = np.loadtxt('D:\\Dataset\\Combined Datasets\\X_test_reshaped_multi.csv', delimiter=',')\n",
    "    X_test_scaled = np.reshape(X_test_load, (X_test_load.shape[0], X_test_load.shape[1], 1))  \n",
    "    y_train_scaled = np.loadtxt('D:\\Dataset\\Combined Datasets\\y_train_reshaped_multi.csv', delimiter=',')\n",
    "    y_test_scaled = np.loadtxt('D:\\Dataset\\Combined Datasets\\y_test_reshaped_multi.csv', delimiter=',')\n",
    "    X_val_load = np.loadtxt('D:\\Dataset\\Combined Datasets\\X_val_reshaped_multi.csv', delimiter=',')\n",
    "    X_val_scaled = np.reshape(X_val_load, (X_val_load.shape[0], X_val_load.shape[1], 1))\n",
    "    y_val_scaled = np.loadtxt('D:\\Dataset\\Combined Datasets\\y_val_reshaped_multi.csv', delimiter=',')\n",
    "    return X_train_scaled, X_test_scaled, y_train_scaled, y_test_scaled, X_val_scaled, y_val_scaled"
   ]
  },
  {
   "cell_type": "markdown",
   "id": "66c9409f",
   "metadata": {},
   "source": [
    "# Resample the dataset with SMOTE"
   ]
  },
  {
   "cell_type": "code",
   "execution_count": 3,
   "id": "a1a9585a",
   "metadata": {},
   "outputs": [],
   "source": [
    "def smote_resample(X_train_scaled, y_train_scaled, sample_count, n_samples):\n",
    "    #sample_count = int(sum(list(labels_dict.values())[1:]) /14)\n",
    "    strategy = {2:sample_count, 3:sample_count, 12:sample_count, 13:sample_count}\n",
    "    oversample = SMOTE(sampling_strategy=strategy)\n",
    "    X_train_reshaped = X_train_scaled.reshape(X_train_scaled.shape[0], -1)\n",
    "    X_train_smote, y_train_smote = oversample.fit_resample(X_train_reshaped, y_train_scaled)\n",
    "    for i in [2,3,12,13]:\n",
    "        n_samples[i] = sample_count\n",
    "    labels_smote_dict = { i : n_samples[i] for i in range(0, len(n_samples) ) }\n",
    "    smote = SMOTE()\n",
    "    X_train_reshaped = X_train_scaled.reshape(X_train_scaled.shape[0], -1)\n",
    "    X_train_smote, y_train_smote = smote.fit_resample(X_train_reshaped,y_train_scaled)\n",
    "    return(X_train_smote, y_train_smote, labels_smote_dict, n_samples)"
   ]
  },
  {
   "cell_type": "markdown",
   "id": "8edc7927",
   "metadata": {},
   "source": [
    "# Calculate Dataset Statistics"
   ]
  },
  {
   "cell_type": "code",
   "execution_count": 4,
   "id": "0f9b86b2",
   "metadata": {},
   "outputs": [],
   "source": [
    "def count_stats(y_train_scaled):\n",
    "    y_train_new = np.where(y_train_scaled==1)[1]\n",
    "    counts = Counter(y_train_new)\n",
    "    n_samples = list(list(zip(*sorted(counts.most_common())))[1])\n",
    "    return(n_samples)"
   ]
  },
  {
   "cell_type": "markdown",
   "id": "4cc58ba9",
   "metadata": {},
   "source": [
    "# Calculate Class Weights"
   ]
  },
  {
   "cell_type": "code",
   "execution_count": 5,
   "id": "125bfdaf",
   "metadata": {},
   "outputs": [],
   "source": [
    "def calc_weights(labels_smote_dict, mu=10):\n",
    "    total = sum(labels_smote_dict.values())\n",
    "    keys = labels_smote_dict.keys()\n",
    "    dict_class_weights = dict()\n",
    "    for i in keys:\n",
    "        score = np.log(mu*total/labels_smote_dict[i]*14)\n",
    "        dict_class_weights[i] = score\n",
    "    benign_value = np.log(mu*total/labels_smote_dict[0]*2)\n",
    "    dict_class_weights[0] = benign_value\n",
    "    return dict_class_weights "
   ]
  },
  {
   "cell_type": "markdown",
   "id": "158c604d",
   "metadata": {},
   "source": [
    "# Creating the LSTM model for multi-class w/SMOTE classification"
   ]
  },
  {
   "cell_type": "code",
   "execution_count": 6,
   "id": "aaa6a54c",
   "metadata": {},
   "outputs": [],
   "source": [
    "def create_model(X_train_smote):\n",
    "    model = Sequential()\n",
    "    # Adding the first LSTM layer and some Dropout regularization\n",
    "    model.add(LSTM(units= 76, return_sequences= True, input_shape= (X_train_smote.shape[1], 1)))\n",
    "    model.add(Dropout(0.2))\n",
    "    # Adding the second LSTM layer and Dropout regularization\n",
    "    model.add(LSTM(units= 76, return_sequences= True))\n",
    "    model.add(Dropout(0.2))\n",
    "    # Adding the third LSTM layer and Dropout regularization\n",
    "    model.add(LSTM(units= 76, return_sequences= True))\n",
    "    model.add(Dropout(0.2))\n",
    "    # Adding the fourth LSTM layer and Dropout regularization\n",
    "    model.add(LSTM(units= 76))\n",
    "    model.add(Dropout(0.2))\n",
    "    # Adding the output layer\n",
    "    model.add(Dense(units= 15))\n",
    "    model.add(Activation('softmax'))\n",
    "    opt = Adam(lr=0.0002) \n",
    "    # Compiling the LSTM\n",
    "    model.compile(optimizer= opt, loss= 'categorical_crossentropy', metrics=['accuracy'])\n",
    "    model.summary()\n",
    "    return model"
   ]
  },
  {
   "cell_type": "markdown",
   "id": "64865e57",
   "metadata": {},
   "source": [
    "# Training the model with class weights"
   ]
  },
  {
   "cell_type": "code",
   "execution_count": 7,
   "id": "7307e2cf",
   "metadata": {},
   "outputs": [],
   "source": [
    "def fit_model(model, X_train_smote, y_train_smote, X_val_scaled, y_val_scaled, dict_class_weights):\n",
    "    X_train_smote = np.reshape(X_train_smote, (X_train_smote.shape[0], X_train_smote.shape[1], 1))   \n",
    "    earlystopping = callbacks.EarlyStopping(monitor =\"val_loss\",\n",
    "    \t\t\t\t\t\t\t\t\t\t mode =\"min\", patience = 5,\n",
    "    \t\t\t\t\t\t\t\t\t\t restore_best_weights = True)\n",
    "    hist = model.fit(X_train_smote, y_train_smote, batch_size = 1024, epochs = 40, validation_data =(X_val_scaled, y_val_scaled), callbacks = earlystopping, class_weight=dict_class_weights)\n",
    "    return hist"
   ]
  },
  {
   "cell_type": "code",
   "execution_count": null,
   "id": "0abb904a",
   "metadata": {},
   "outputs": [],
   "source": [
    "if __name__==\"__main__\": \n",
    "    X_train_scaled, X_test_scaled, y_train_scaled, y_test_scaled, X_val_scaled, y_val_scaled = load_dataset()\n",
    "    n_samples = count_stats(y_train_scaled)\n",
    "    labels_dict = { i : n_samples[i] for i in range(0, len(n_samples) ) }\n",
    "    sample_count = max(list(labels_dict.values())[1:])\n",
    "    X_train_smote, y_train_smote, labels_smote_dict, n_samples_smote = smote_resample(X_train_scaled, y_train_scaled, sample_count, n_samples)\n",
    "    dict_class_weights = calc_weights(labels_smote_dict)\n",
    "    model = create_model(X_train_smote)\n",
    "    hist = fit_model(model, X_train_smote, y_train_smote, X_val_scaled, y_val_scaled, dict_class_weights)"
   ]
  }
 ],
 "metadata": {
  "kernelspec": {
   "display_name": "Python 3 (ipykernel)",
   "language": "python",
   "name": "python3"
  },
  "language_info": {
   "codemirror_mode": {
    "name": "ipython",
    "version": 3
   },
   "file_extension": ".py",
   "mimetype": "text/x-python",
   "name": "python",
   "nbconvert_exporter": "python",
   "pygments_lexer": "ipython3",
   "version": "3.9.7"
  }
 },
 "nbformat": 4,
 "nbformat_minor": 5
}
