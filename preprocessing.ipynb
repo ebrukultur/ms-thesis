{
 "cells": [
  {
   "cell_type": "code",
   "execution_count": 10,
   "id": "24650a04",
   "metadata": {},
   "outputs": [],
   "source": [
    "import os\n",
    "import glob\n",
    "import pandas as pd\n",
    "import numpy as np\n",
    "import dask.dataframe as dd\n",
    "from sklearn.impute import SimpleImputer\n",
    "from sklearn.preprocessing import OneHotEncoder\n",
    "from sklearn.model_selection import train_test_split\n",
    "from sklearn.preprocessing import MinMaxScaler"
   ]
  },
  {
   "cell_type": "code",
   "execution_count": 11,
   "id": "2d2a7312",
   "metadata": {},
   "outputs": [],
   "source": [
    "def init_dataset(file_extension):\n",
    "    os.path.dirname=\n",
    "    all_filenames = [i for i in glob.glob(f\"*{file_extension}\")]\n",
    "    dataset = pd.concat([pd.read_csv(f, delimiter=',', encoding='UTF-8') for f in all_filenames], ignore_index=True, verify_integrity=True)\n",
    "    dataset.drop_duplicates(keep=False, inplace=True)\n",
    "    dataset[\"Timestamp\"] = pd.to_datetime(dataset[\"Timestamp\"])\n",
    "    dataset.sort_values(by=['Timestamp'], inplace=True)\n",
    "    dataset = dataset.drop([\"Flow ID\", \"Src IP\", \"Src Port\", \"Dst IP\", 'Timestamp', 'Bwd PSH Flags', 'Bwd URG Flags'], axis=1)\n",
    "    dataset = dataset.replace([np.inf, -np.inf], np.nan)\n",
    "    return(dataset)"
   ]
  },
  {
   "cell_type": "code",
   "execution_count": 12,
   "id": "a1810a54",
   "metadata": {},
   "outputs": [],
   "source": [
    "def norm_dataset(dataset):\n",
    "    dataset.iloc[:,15:17] = dataset.iloc[:,15:17].replace('inf', 'nan')\n",
    "    dataset.iloc[:,15:17] = dataset.iloc[:,15:17].replace('Infinity', 'nan')\n",
    "    X = dataset.iloc[:, :-1].values\n",
    "    y = dataset.iloc[:, -1].values\n",
    "    imputer = SimpleImputer(missing_values=np.nan, strategy='mean')\n",
    "    imputer.fit(X[:,15:17])\n",
    "    X[:, 15:17] = imputer.transform(X[:, 15:17]) \n",
    "    y = y.reshape(-1,1)\n",
    "    onehotencoder1 = OneHotEncoder()\n",
    "    y = onehotencoder1.fit_transform(y).toarray()\n",
    "    return(X, y)"
   ]
  },
  {
   "cell_type": "code",
   "execution_count": 13,
   "id": "36833302",
   "metadata": {},
   "outputs": [],
   "source": [
    "def split_dataset(X, y):\n",
    "    X_train, X_test, y_train, y_test = train_test_split(X, y, test_size = 0.2, random_state = 1)\n",
    "    X_train, X_val, y_train, y_val = train_test_split(X_train, y_train, test_size=0.2, random_state=1) \n",
    "    #Feature Scaling\n",
    "    x_scaler = MinMaxScaler(feature_range = (0,1))\n",
    "    y_scaler = MinMaxScaler(feature_range = (0,1))\n",
    "    y_train = np.reshape(y_train, (y_train.shape[0], 1)) \n",
    "    y_test = np.reshape(y_test, (y_test.shape[0], 1))\n",
    "    y_val = np.reshape(y_val, (y_val.shape[0], 1))\n",
    "    X_train_scaled = x_scaler.fit_transform(X_train)\n",
    "    y_train_scaled = y_scaler.fit_transform(y_train)\n",
    "    X_train_scaled = np.reshape(X_train_scaled, (X_train_scaled.shape[0], X_train_scaled.shape[1], 1))\n",
    "    X_test_scaled = x_scaler.transform(X_test)\n",
    "    y_test_scaled = y_scaler.transform(y_test)\n",
    "    X_test_scaled = np.reshape(X_test_scaled, (X_test_scaled.shape[0], X_test_scaled.shape[1], 1))\n",
    "    X_val_scaled = x_scaler.transform(X_val)\n",
    "    y_val_scaled = y_scaler.transform(y_val)\n",
    "    X_val_scaled = np.reshape(X_val_scaled, (X_val_scaled.shape[0], X_val_scaled.shape[1], 1))\n",
    "    return(X_train_scaled, y_train_scaled, X_test_scaled, y_test_scaled, X_val_scaled, y_val_scaled)"
   ]
  },
  {
   "cell_type": "code",
   "execution_count": null,
   "id": "33bf21fc",
   "metadata": {},
   "outputs": [],
   "source": [
    "if __name__==\"__main__\": \n",
    "    dataset = init_dataset(file_extension='CICFlowMeter.csv')\n",
    "    X, y = norm_dataset(dataset)\n",
    "    X_train_scaled, y_train_scaled, X_test_scaled, y_test_scaled, X_val_scaled, y_val_scaled = split_dataset(X, y)"
   ]
  }
 ],
 "metadata": {
  "kernelspec": {
   "display_name": "Python 3 (ipykernel)",
   "language": "python",
   "name": "python3"
  },
  "language_info": {
   "codemirror_mode": {
    "name": "ipython",
    "version": 3
   },
   "file_extension": ".py",
   "mimetype": "text/x-python",
   "name": "python",
   "nbconvert_exporter": "python",
   "pygments_lexer": "ipython3",
   "version": "3.9.7"
  }
 },
 "nbformat": 4,
 "nbformat_minor": 5
}
